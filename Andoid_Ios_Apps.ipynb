{
 "cells": [
  {
   "cell_type": "markdown",
   "metadata": {},
   "source": [
    "# Data Analysis\n",
    "\n",
    "Neste projeto, será analisado os dados de aplicativos do mercado da App Store e da Google Play e, desta forma, identificar quais aplicativos são mais atrativos para os usuários.\n",
    "\n",
    "## Explorando os dados\n",
    "\n",
    "Os dados que serão analisados são amostras dos datasets completos, somente para fins de estudos. Os datasets selecionados podem ser encontrados:\n",
    "\n",
    "[Nesta](https://www.kaggle.com/lava18/google-play-store-apps) págida do Kaggle, para os dados da Google Play.\n",
    "E [nesta](https://www.kaggle.com/ramamet4/app-store-apple-data-set-10k-apps) página do Kaggle, para os dados da App Store.\n",
    "\n"
   ]
  },
  {
   "cell_type": "code",
   "execution_count": 1,
   "metadata": {},
   "outputs": [],
   "source": [
    "from csv import reader\n",
    "\n",
    "#abrindo o dataset IOS\n",
    "opened_file = open('AppleStore.csv', encoding='utf8')\n",
    "ios_file = reader(opened_file)\n",
    "ios_data = list(ios_file)\n",
    "ios_header = ios_data[0]\n",
    "ios_data = ios_data[1:]\n",
    "\n",
    "#abrindo dataset Android\n",
    "opened_file = open('googleplaystore.csv', encoding='utf8')\n",
    "android_file = reader(opened_file)\n",
    "android_data = list(android_file)\n",
    "android_header = android_data[0]\n",
    "android_data = android_data[1:]\n"
   ]
  },
  {
   "cell_type": "markdown",
   "metadata": {},
   "source": [
    "### Criando uma função para facilitar a exploração do dataset\n",
    "\n",
    "Esta função faz com que possamos acessar as linhas do dataset de forma mais legível a qualquer momento."
   ]
  },
  {
   "cell_type": "code",
   "execution_count": 2,
   "metadata": {},
   "outputs": [],
   "source": [
    "def explore_data(dataset, start, end, rows_and_columns=False):\n",
    "    dataset_slice = dataset[start:end]    \n",
    "    for row in dataset_slice:\n",
    "        print(row)\n",
    "        print('\\n') # para adicionar uma linha vazia entre as linhas, facilitando a leitura\n",
    "\n",
    "    if rows_and_columns: #caso queira que também seja exibido a quantidade de linhas e colunas\n",
    "        print('Number of rows:', len(dataset))\n",
    "        print('Number of columns:', len(dataset[0]))\n",
    "    "
   ]
  },
  {
   "cell_type": "markdown",
   "metadata": {},
   "source": [
    "### Inspecionando os datasets\n"
   ]
  },
  {
   "cell_type": "code",
   "execution_count": 3,
   "metadata": {},
   "outputs": [
    {
     "name": "stdout",
     "output_type": "stream",
     "text": [
      "['id', 'track_name', 'size_bytes', 'currency', 'price', 'rating_count_tot', 'rating_count_ver', 'user_rating', 'user_rating_ver', 'ver', 'cont_rating', 'prime_genre', 'sup_devices.num', 'ipadSc_urls.num', 'lang.num', 'vpp_lic']\n",
      "\n",
      "\n",
      "['284882215', 'Facebook', '389879808', 'USD', '0.0', '2974676', '212', '3.5', '3.5', '95.0', '4+', 'Social Networking', '37', '1', '29', '1']\n",
      "\n",
      "\n",
      "['389801252', 'Instagram', '113954816', 'USD', '0.0', '2161558', '1289', '4.5', '4.0', '10.23', '12+', 'Photo & Video', '37', '0', '29', '1']\n",
      "\n",
      "\n",
      "['529479190', 'Clash of Clans', '116476928', 'USD', '0.0', '2130805', '579', '4.5', '4.5', '9.24.12', '9+', 'Games', '38', '5', '18', '1']\n",
      "\n",
      "\n",
      "['420009108', 'Temple Run', '65921024', 'USD', '0.0', '1724546', '3842', '4.5', '4.0', '1.6.2', '9+', 'Games', '40', '5', '1', '1']\n",
      "\n",
      "\n",
      "Number of rows: 7197\n",
      "Number of columns: 16\n"
     ]
    }
   ],
   "source": [
    "print(ios_header)\n",
    "print('\\n')\n",
    "explore_data(ios_data, 0, 4, True)"
   ]
  },
  {
   "cell_type": "markdown",
   "metadata": {},
   "source": [
    "#### IOS Data - Primeira Análise\n",
    "\n",
    "Após uma rápida visualização dos dados acima, podemos perceber que há `7197` aplicativos IOS nesse dataset. As colunas que são interessantes para este projeto são:`'track_name'`, `'currency'`, `'price'`, `'rating_count_tot'`, `'rating_count_ver'` e `'prime_genre'`. \n",
    "\n",
    "Nem todas as colunas são autoexplicativas, portanto, neste caso, mais detalhes sobre elas podem ser encontrados na [documentação](https://www.kaggle.com/ramamet4/app-store-apple-data-set-10k-apps/home) do dataset.\n",
    "\n",
    "Agora vamos explorar os dados dos aplicativos android!"
   ]
  },
  {
   "cell_type": "code",
   "execution_count": 4,
   "metadata": {},
   "outputs": [
    {
     "name": "stdout",
     "output_type": "stream",
     "text": [
      "['App', 'Category', 'Rating', 'Reviews', 'Size', 'Installs', 'Type', 'Price', 'Content Rating', 'Genres', 'Last Updated', 'Current Ver', 'Android Ver']\n",
      "\n",
      "\n",
      "['Photo Editor & Candy Camera & Grid & ScrapBook', 'ART_AND_DESIGN', '4.1', '159', '19M', '10,000+', 'Free', '0', 'Everyone', 'Art & Design', 'January 7, 2018', '1.0.0', '4.0.3 and up']\n",
      "\n",
      "\n",
      "['Coloring book moana', 'ART_AND_DESIGN', '3.9', '967', '14M', '500,000+', 'Free', '0', 'Everyone', 'Art & Design;Pretend Play', 'January 15, 2018', '2.0.0', '4.0.3 and up']\n",
      "\n",
      "\n",
      "['U Launcher Lite – FREE Live Cool Themes, Hide Apps', 'ART_AND_DESIGN', '4.7', '87510', '8.7M', '5,000,000+', 'Free', '0', 'Everyone', 'Art & Design', 'August 1, 2018', '1.2.4', '4.0.3 and up']\n",
      "\n",
      "\n",
      "['Sketch - Draw & Paint', 'ART_AND_DESIGN', '4.5', '215644', '25M', '50,000,000+', 'Free', '0', 'Teen', 'Art & Design', 'June 8, 2018', 'Varies with device', '4.2 and up']\n",
      "\n",
      "\n",
      "Number of rows: 10841\n",
      "Number of columns: 13\n"
     ]
    }
   ],
   "source": [
    "print(android_header)\n",
    "print('\\n')\n",
    "explore_data(android_data, 0, 4, True)"
   ]
  },
  {
   "cell_type": "markdown",
   "metadata": {},
   "source": [
    "### Android Data - Primeira Análise\n",
    "\n",
    "Há `10841` apps neste dataset da Google Play. As colunas que serão úteis para este projeto são:`'App'`, `'Category'`, `'Reviews'`, `'Installs'`, `'Type'`, `'Price'`, and `'Genres'`.\n",
    "\n",
    "A documentação do dataset pode ser encontrada [aqui](https://www.kaggle.com/lava18/google-play-store-apps)!"
   ]
  },
  {
   "cell_type": "markdown",
   "metadata": {},
   "source": [
    "## Precisão\n",
    "Para`Garantir` que os dados analisados são `precisos`, será necessário: `Detectar datas incorretor, corrigi-los ou removê-los` e `Detectar dados duplicados e deleta-los`.\n",
    "\n",
    " - Observando a página de [discussçoes](https://www.kaggle.com/lava18/google-play-store-apps/discussion) da Google Play Store Apps, podemos ver que um dos tópicos dos debates é um `erro de linha`. Vamos fazer `loop` para `comparar` todas as linhas com o cabeçalho pata confirmar esta hipótese!\n",
    " \n"
   ]
  },
  {
   "cell_type": "code",
   "execution_count": 5,
   "metadata": {},
   "outputs": [
    {
     "name": "stdout",
     "output_type": "stream",
     "text": [
      "['Life Made WI-Fi Touchscreen Photo Frame', '1.9', '19', '3.0M', '1,000+', 'Free', '0', 'Everyone', '', 'February 11, 2018', '1.0.19', '4.0 and up']\n",
      "\n",
      "\n",
      "Index postion is: 10472\n",
      "10840\n"
     ]
    }
   ],
   "source": [
    "not_found = 0\n",
    "for row in android_data:\n",
    "    if len(row) != len(android_header): #Comparando o tamanho das linhas com o cabeçalho\n",
    "        print(row)\n",
    "        print(\"\\n\")\n",
    "        print(\"Index postion is:\", android_data.index(row))\n",
    "    else:\n",
    "        not_found += 1\n",
    "print(not_found)"
   ]
  },
  {
   "cell_type": "markdown",
   "metadata": {},
   "source": [
    "Desta forma pode-se perceber que a linha 10472 corresponde ao app *Life Made WI-Fi Touchscreen Photo Frame*. Comparando os valores de cada uma das colunas do app com o cabeçalho, observa-se que seu rating correspondente é 19. Esse valor nos indica um erro nos dados deste aplicativo pois o valor máximo de atribuição na avaliação de aplicativos é 5. Isto acontece pois não há um valor atribuído na coluna *'Category'* ( *Index 1* ou *2.a coluna*).\n",
    "\n",
    "**E agora?**\n",
    "\n",
    "As soluções para corresão seriam: tratar os dados incorretos, neste caso adicionando um valor substituto na coluna faltante, ou excluí-lo. Como trata-se comente de uma linha que não causará grande impacto no nosso projeto, o dado será deletado. "
   ]
  },
  {
   "cell_type": "code",
   "execution_count": 6,
   "metadata": {},
   "outputs": [
    {
     "name": "stdout",
     "output_type": "stream",
     "text": [
      "7197\n"
     ]
    }
   ],
   "source": [
    "not_found = 0\n",
    "for row in ios_data:\n",
    "    if len(row) != len(ios_header):\n",
    "        print(row)\n",
    "        print(\"\\n\")\n",
    "        print(\"Index postion is:\", ios_data.index(row))\n",
    "    else:\n",
    "        not_found += 1\n",
    "print(not_found)"
   ]
  },
  {
   "cell_type": "markdown",
   "metadata": {},
   "source": [
    "### Deletando Dados Incorretos\n",
    "\n",
    "De forma muito simples, a exclusão da linha 10472 do dataset android será feita através do uso da palavra chave `del`, que é utilizada para deletar objetos. "
   ]
  },
  {
   "cell_type": "code",
   "execution_count": 7,
   "metadata": {},
   "outputs": [
    {
     "name": "stdout",
     "output_type": "stream",
     "text": [
      "10841\n",
      "10840\n"
     ]
    }
   ],
   "source": [
    "print(len(android_data))\n",
    "del android_data[10472] \n",
    "print(len(android_data))"
   ]
  },
  {
   "cell_type": "markdown",
   "metadata": {},
   "source": [
    "### Lembrando que é preciso cuidado ao utilizar a palavra-chave del\n",
    "\n",
    "Por quê? Como pode ser observado acima, após a exclusão da linha afetada, o tamanho do nosso dataset diminuiu em uma unidade. Ao usarmos novamente o comando, *outra* linha seria deletada.\n",
    "\n",
    "Abaixo podemos ver qual aplicativo tomou o lugar do que foi deletado na linha 10472.\n"
   ]
  },
  {
   "cell_type": "code",
   "execution_count": 8,
   "metadata": {},
   "outputs": [
    {
     "name": "stdout",
     "output_type": "stream",
     "text": [
      "['osmino Wi-Fi: free WiFi', 'TOOLS', '4.2', '134203', '4.1M', '10,000,000+', 'Free', '0', 'Everyone', 'Tools', 'August 7, 2018', '6.06.14', '4.4 and up']\n"
     ]
    }
   ],
   "source": [
    "print(android_data[10472])"
   ]
  },
  {
   "cell_type": "markdown",
   "metadata": {},
   "source": [
    "### Dados Duplicados\n",
    "\n",
    "É preciso saber se há dados duplicados dentro do nosso dataset para que o projeto seja executado da melhor forma possível, para isso, será conferido o nome de todos os aplicatidos, em cada linha do dataset, e uma contagem deles será efetuada.\n"
   ]
  },
  {
   "cell_type": "code",
   "execution_count": 40,
   "metadata": {},
   "outputs": [
    {
     "name": "stdout",
     "output_type": "stream",
     "text": [
      "Number of duplicate Android apps:  1181\n",
      "\n",
      "\n",
      "Some duplicate apps:  ['Quick PDF Scanner + OCR FREE', 'Box', 'Google My Business', 'ZOOM Cloud Meetings', 'join.me - Simple Meetings', 'Box', 'Zenefits', 'Google Ads', 'Google My Business', 'Slack', 'FreshBooks Classic', 'Insightly CRM', 'QuickBooks Accounting: Invoicing & Expenses', 'HipChat - Chat Built for Teams', 'Xero Accounting Software']\n"
     ]
    }
   ],
   "source": [
    "duplicate_android_apps = []   #Vetor no qual será armazenado o nome os apps duplicados\n",
    "unique_android_apps = []\n",
    "\n",
    "for app in android_data:\n",
    "    name = app[0]\n",
    "    if name in unique_android_apps:         #Conferindo se o nome daquele aplicativo já foi armazenado anteriormente \n",
    "        duplicate_android_apps.append(name)\n",
    "    else:\n",
    "        unique_android_apps.append(name)    #Aplicativos que forem identificados pela primeira vez serão armazenados aqui\n",
    "        \n",
    "if len(unique_android_apps) == len(android_data):\n",
    "    print('There is no duplicate Data!')\n",
    "else:\n",
    "    ### Exibindo a quantidade de aplicativos duplicados encontrado        \n",
    "    print('Number of duplicate Android apps: ', len(duplicate_android_apps))\n",
    "    print('\\n')\n",
    "    print('Some duplicate apps: ', duplicate_android_apps[:15])"
   ]
  },
  {
   "cell_type": "code",
   "execution_count": 41,
   "metadata": {},
   "outputs": [
    {
     "name": "stdout",
     "output_type": "stream",
     "text": [
      "There is no duplicate Data!\n"
     ]
    }
   ],
   "source": [
    "duplicate_ios_apps = []   #Vetor no qual será armazenado o nome os apps duplicados\n",
    "unique_ios_apps = []\n",
    "\n",
    "for app in ios_data:\n",
    "    name = app[0]\n",
    "    if name in unique_ios_apps:          #Conferindo se o nome daquele aplicativo já foi armazenado anteriormente \n",
    "        duplicate_ios_apps.append(name)\n",
    "    else:\n",
    "        unique_ios_apps.append(name)     #Aplicativos que forem identificados pela primeira vez serão armazenados aqui\n",
    "        \n",
    "if len(unique_ios_apps) == len(ios_data):\n",
    "    print('There is no duplicate Data!')\n",
    "else:\n",
    "    ### Exibindo a quantidade de aplicativos duplicados encontrado      \n",
    "    print('Number of duplicate Android apps: ', len(duplicate_ios_apps))\n",
    "    print('\\n')\n",
    "    print('Some duplicate apps: ', duplicate_ios_apps[:15])"
   ]
  },
  {
   "cell_type": "markdown",
   "metadata": {},
   "source": [
    "Exibindo todas as linhas em que o aplicativo Instagram foi armazenado:"
   ]
  },
  {
   "cell_type": "code",
   "execution_count": 11,
   "metadata": {},
   "outputs": [
    {
     "name": "stdout",
     "output_type": "stream",
     "text": [
      "['Instagram', 'SOCIAL', '4.5', '66577313', 'Varies with device', '1,000,000,000+', 'Free', '0', 'Teen', 'Social', 'July 31, 2018', 'Varies with device', 'Varies with device']\n",
      "['Instagram', 'SOCIAL', '4.5', '66577446', 'Varies with device', '1,000,000,000+', 'Free', '0', 'Teen', 'Social', 'July 31, 2018', 'Varies with device', 'Varies with device']\n",
      "['Instagram', 'SOCIAL', '4.5', '66577313', 'Varies with device', '1,000,000,000+', 'Free', '0', 'Teen', 'Social', 'July 31, 2018', 'Varies with device', 'Varies with device']\n",
      "['Instagram', 'SOCIAL', '4.5', '66509917', 'Varies with device', '1,000,000,000+', 'Free', '0', 'Teen', 'Social', 'July 31, 2018', 'Varies with device', 'Varies with device']\n"
     ]
    }
   ],
   "source": [
    "for app in android_data:\n",
    "    name = app[0]\n",
    "    if name == 'Instagram':\n",
    "        print(app)"
   ]
  },
  {
   "cell_type": "markdown",
   "metadata": {},
   "source": [
    "### Deletando os Dados Duplicados\n",
    "\n",
    "Como podemos perceber visualizando as linhas acima, no *index n.3* (quarta posição), os valores da quantidade de avaliações do aplicativo varia. Isso mostra que os dados do Instagram foram captados em diferentes momentos.\n",
    "\n",
    "Não queremos remover as linhas repetidas aleatóriamente, novamente, para que a análise seja a mais precisa possível. **Então, o que fazer?**\n",
    "O fator variante no Index n.3 pode ajudar na tomada de decisão. Serão mantidas as linhas com maior número de avaliações.\n",
    "\n",
    "Para isso, será feito o seguinte:\n",
    "\n",
    " - Será criado um dicionário cuja chave é o nome de um aplicativo único e seu valor é o maior número de avaliações.\n",
    " \n",
    " - Este dicionário será usado para criar um novo dataset, com somente uma única entrada por aplicativo com o seu maior número de avaliações.\n"
   ]
  },
  {
   "cell_type": "code",
   "execution_count": 12,
   "metadata": {},
   "outputs": [
    {
     "name": "stdout",
     "output_type": "stream",
     "text": [
      "Expected 9659 Apps after cleaning\n"
     ]
    }
   ],
   "source": [
    "expected_android_len = len(android_data) - len(duplicate_android_apps)\n",
    "print('Expected ' + str(expected_android_len) + ' Apps after cleaning')"
   ]
  },
  {
   "cell_type": "markdown",
   "metadata": {},
   "source": [
    "Há 1180 apps duplicados no dataset da Google Play Store. Subtraindo o número de aplicativos repetidos no número total de entradas no dataser, é encontrado o valor esperado da quantidade de aplicativos registrados após a limpeza.\n"
   ]
  },
  {
   "cell_type": "code",
   "execution_count": 42,
   "metadata": {},
   "outputs": [],
   "source": [
    "reviews_max = {} #Criando o dicionário com dados únicos\n",
    "\n",
    "for app in android_data:\n",
    "    name = app[0]\n",
    "    n_reviews = float(app[3]) #lembradno de converter o valor das avaliações para float\n",
    "    if name in reviews_max and reviews_max[name] < n_reviews:\n",
    "        reviews_max[name] = n_reviews\n",
    "  \n",
    "    elif name not in reviews_max:\n",
    "        reviews_max[name] = n_reviews"
   ]
  },
  {
   "cell_type": "markdown",
   "metadata": {},
   "source": [
    "Vimos antetiormente que o número de apps duplicados eram 1181, portanto nosso dicionário deverá conter o n.o total anterior (**10840**) *subtraído* do número de duplicados, resultando em **9659** valores.\n",
    "Vamos conferir!"
   ]
  },
  {
   "cell_type": "code",
   "execution_count": 14,
   "metadata": {},
   "outputs": [
    {
     "name": "stdout",
     "output_type": "stream",
     "text": [
      "9659\n",
      "9659\n"
     ]
    }
   ],
   "source": [
    "print(expected_android_len)\n",
    "print(len(reviews_max))"
   ]
  },
  {
   "cell_type": "markdown",
   "metadata": {},
   "source": [
    "Agora nós podemos, finalmente, limpar nossos dados.\n",
    "A limpeza será feita da seguinte forma:\n",
    "\n",
    "1. Criando duas listas vazias;\n",
    "2. Percorrendo o dataset android;\n",
    "3. Ao percorrer o dataset, isolar o nome do app e a quantidade de avaliações;\n",
    "4. Armazenar a linha correspondente à lista vazia dedicada aos dados limpos.\n",
    "5. Adicionar o nome do app à lista de app já verificados;\n",
    "6. Os passos 4 e 5 somente serão executados se o n.o de avaliações correspondem ao número salvo no dicionário construído anteriormente **E** * obs. se o nome do app ainda não existe na lista do passo 5*.\n",
    "\n",
    "*Manter-se atento a essa observação pois os valores de avaliações podem ser os mesmos em algumas, ou todas, repetições*"
   ]
  },
  {
   "cell_type": "code",
   "execution_count": 45,
   "metadata": {},
   "outputs": [],
   "source": [
    "android_clean = [] #Passo 1\n",
    "already_added = [] #Passo 1\n",
    "\n",
    "for app in android_data: #Passo 2\n",
    "    name = app[0]\n",
    "    n_reviews = float(app[3])\n",
    "    if (reviews_max[name] == n_reviews) and (name not in already_added): #Passo 6\n",
    "        android_clean.append(app) #Passo 4\n",
    "        already_added.append(name) #Passo 5"
   ]
  },
  {
   "cell_type": "markdown",
   "metadata": {},
   "source": [
    "**Após a execução dos passos anteriores, o novo dataset deverá ter o mesmo número de entradas que o valor esperado:**"
   ]
  },
  {
   "cell_type": "code",
   "execution_count": 16,
   "metadata": {},
   "outputs": [
    {
     "name": "stdout",
     "output_type": "stream",
     "text": [
      "9659\n",
      "9659\n"
     ]
    }
   ],
   "source": [
    "print(len(android_clean))\n",
    "print(expected_android_len)"
   ]
  },
  {
   "cell_type": "code",
   "execution_count": 44,
   "metadata": {},
   "outputs": [
    {
     "name": "stdout",
     "output_type": "stream",
     "text": [
      "['Photo Editor & Candy Camera & Grid & ScrapBook', 'ART_AND_DESIGN', '4.1', '159', '19M', '10,000+', 'Free', '0', 'Everyone', 'Art & Design', 'January 7, 2018', '1.0.0', '4.0.3 and up']\n",
      "\n",
      "\n",
      "['U Launcher Lite – FREE Live Cool Themes, Hide Apps', 'ART_AND_DESIGN', '4.7', '87510', '8.7M', '5,000,000+', 'Free', '0', 'Everyone', 'Art & Design', 'August 1, 2018', '1.2.4', '4.0.3 and up']\n",
      "\n",
      "\n",
      "['Sketch - Draw & Paint', 'ART_AND_DESIGN', '4.5', '215644', '25M', '50,000,000+', 'Free', '0', 'Teen', 'Art & Design', 'June 8, 2018', 'Varies with device', '4.2 and up']\n",
      "\n",
      "\n",
      "Number of rows: 9659\n",
      "Number of columns: 13\n"
     ]
    }
   ],
   "source": [
    "#função criada anteriormente que possibilita a exploração do dataset sempre que necessário\n",
    "explore_data(android_clean, 0, 3, True) "
   ]
  },
  {
   "cell_type": "markdown",
   "metadata": {},
   "source": [
    "## Removendo Apps de língua não-inglesa"
   ]
  },
  {
   "cell_type": "code",
   "execution_count": 18,
   "metadata": {
    "scrolled": true
   },
   "outputs": [
    {
     "name": "stdout",
     "output_type": "stream",
     "text": [
      "爱奇艺PPS -《欢乐颂2》电视剧热播\n",
      "【脱出ゲーム】絶対に最後までプレイしないで 〜謎解き＆ブロックパズル〜\n",
      "中国語 AQリスニング\n",
      "لعبة تقدر تربح DZ\n"
     ]
    }
   ],
   "source": [
    "print(ios_data[813][1])\n",
    "print(ios_data[6731][1])\n",
    "\n",
    "print(android_clean[4412][0])\n",
    "print(android_clean[7940][0])"
   ]
  },
  {
   "cell_type": "code",
   "execution_count": null,
   "metadata": {},
   "outputs": [],
   "source": []
  }
 ],
 "metadata": {
  "kernelspec": {
   "display_name": "Python 3",
   "language": "python",
   "name": "python3"
  },
  "language_info": {
   "codemirror_mode": {
    "name": "ipython",
    "version": 3
   },
   "file_extension": ".py",
   "mimetype": "text/x-python",
   "name": "python",
   "nbconvert_exporter": "python",
   "pygments_lexer": "ipython3",
   "version": "3.8.8"
  }
 },
 "nbformat": 4,
 "nbformat_minor": 2
}
